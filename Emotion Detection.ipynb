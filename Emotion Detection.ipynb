{
 "cells": [
  {
   "cell_type": "code",
   "execution_count": 2,
   "id": "ddb17144-ff9e-4de3-9d18-67eeef26ea4d",
   "metadata": {},
   "outputs": [],
   "source": [
    "import tensorflow as tf\n",
    "from tensorflow.keras.preprocessing.image import ImageDataGenerator\n",
    "from tensorflow.keras.models import Sequential\n",
    "from tensorflow.keras.layers import Conv2D, MaxPooling2D, Flatten, Dense, Dropout\n",
    "from tensorflow.keras.optimizers import Adam"
   ]
  },
  {
   "cell_type": "code",
   "execution_count": 6,
   "id": "b3504114-770d-4713-9b8b-4fe129bee526",
   "metadata": {},
   "outputs": [],
   "source": [
    "datagenerator = ImageDataGenerator(\n",
    "    zoom_range = 0.2,\n",
    "    horizontal_flip = True\n",
    ")"
   ]
  },
  {
   "cell_type": "code",
   "execution_count": 7,
   "id": "e1fec719-b1be-412f-8619-9c2a3652ff8d",
   "metadata": {},
   "outputs": [
    {
     "name": "stdout",
     "output_type": "stream",
     "text": [
      "Found 28821 images belonging to 7 classes.\n",
      "Found 7066 images belonging to 7 classes.\n"
     ]
    }
   ],
   "source": [
    "train_data = datagenerator.flow_from_directory(\n",
    "    'images/train',\n",
    "    target_size = (128, 128),\n",
    "    batch_size = 32\n",
    ")\n",
    "val_data = datagenerator.flow_from_directory(\n",
    "    'images/validation',\n",
    "    target_size = (128, 128),\n",
    "    batch_size = 32\n",
    ")\n"
   ]
  },
  {
   "cell_type": "code",
   "execution_count": 15,
   "id": "ba417d7c-8230-48e0-9030-fa8336637d1a",
   "metadata": {},
   "outputs": [],
   "source": [
    "model = Sequential([\n",
    "    Conv2D(64, kernel_size=(3,3), input_shape=(128, 128, 3), activation='relu'),\n",
    "    MaxPooling2D((2, 2)),\n",
    "    Conv2D(128, kernel_size=(3,3), activation='relu'),\n",
    "    MaxPooling2D((2, 2)),\n",
    "    Conv2D(256, kernel_size=(3,3), activation='relu'),\n",
    "    MaxPooling2D((2, 2)),\n",
    "    Conv2D(256, kernel_size=(3,3), activation='relu'),\n",
    "    MaxPooling2D((2,2)),\n",
    "    Conv2D(512, kernel_size=(3,3), activation='relu'),\n",
    "    MaxPooling2D((2, 2)),\n",
    "    Flatten(),\n",
    "    Dense(2048, activation='relu'),\n",
    "    Dense(7, activation='softmax')\n",
    "])"
   ]
  },
  {
   "cell_type": "code",
   "execution_count": 16,
   "id": "e56a0ce1-9087-4e3c-ab6d-2b0aa5acbbaa",
   "metadata": {},
   "outputs": [],
   "source": [
    "model.compile(optimizer=Adam(learning_rate=0.001),\n",
    "              loss='categorical_crossentropy',\n",
    "              metrics=['accuracy'])"
   ]
  },
  {
   "cell_type": "code",
   "execution_count": 17,
   "id": "e31aadcc-9b2c-4ae5-992d-1c8b807d4b30",
   "metadata": {},
   "outputs": [],
   "source": [
    "def lr_scheduler(epoch, lr):\n",
    "    if epoch < 5:\n",
    "        return lr\n",
    "    else:\n",
    "        return lr * tf.math.exp(-0.1)"
   ]
  },
  {
   "cell_type": "code",
   "execution_count": 19,
   "id": "7ceb11a7-9df7-447a-a555-77e7df1097b0",
   "metadata": {},
   "outputs": [
    {
     "name": "stdout",
     "output_type": "stream",
     "text": [
      "Epoch 1/10\n",
      "901/901 [==============================] - 151s 166ms/step - loss: 2.2385 - accuracy: 0.2467 - val_loss: 1.7770 - val_accuracy: 0.2850\n",
      "Epoch 2/10\n",
      "901/901 [==============================] - 150s 167ms/step - loss: 1.6651 - accuracy: 0.3342 - val_loss: 1.6079 - val_accuracy: 0.3823\n",
      "Epoch 3/10\n",
      "901/901 [==============================] - 160s 177ms/step - loss: 1.5117 - accuracy: 0.4140 - val_loss: 1.4868 - val_accuracy: 0.4290\n",
      "Epoch 4/10\n",
      "901/901 [==============================] - 159s 176ms/step - loss: 1.4167 - accuracy: 0.4539 - val_loss: 1.3565 - val_accuracy: 0.4854\n",
      "Epoch 5/10\n",
      "901/901 [==============================] - 162s 180ms/step - loss: 1.3535 - accuracy: 0.4788 - val_loss: 1.2935 - val_accuracy: 0.5027\n",
      "Epoch 6/10\n",
      "901/901 [==============================] - 159s 176ms/step - loss: 1.2917 - accuracy: 0.5044 - val_loss: 1.3119 - val_accuracy: 0.4979\n",
      "Epoch 7/10\n",
      "901/901 [==============================] - 161s 178ms/step - loss: 1.2637 - accuracy: 0.5164 - val_loss: 1.2430 - val_accuracy: 0.5252\n",
      "Epoch 8/10\n",
      "901/901 [==============================] - 162s 180ms/step - loss: 1.2254 - accuracy: 0.5348 - val_loss: 1.2478 - val_accuracy: 0.5246\n",
      "Epoch 9/10\n",
      "901/901 [==============================] - 166s 184ms/step - loss: 1.1989 - accuracy: 0.5443 - val_loss: 1.2222 - val_accuracy: 0.5437\n",
      "Epoch 10/10\n",
      "901/901 [==============================] - 166s 184ms/step - loss: 1.1782 - accuracy: 0.5517 - val_loss: 1.2367 - val_accuracy: 0.5314\n"
     ]
    }
   ],
   "source": [
    "history = model.fit(train_data, validation_data = val_data, epochs=10)\n"
   ]
  },
  {
   "cell_type": "code",
   "execution_count": 20,
   "id": "fd0b614b-5eac-4d2c-b2dc-226c913d72d5",
   "metadata": {},
   "outputs": [
    {
     "name": "stderr",
     "output_type": "stream",
     "text": [
      "WARNING:absl:Found untraced functions such as _jit_compiled_convolution_op, _jit_compiled_convolution_op, _jit_compiled_convolution_op, _jit_compiled_convolution_op, _jit_compiled_convolution_op while saving (showing 5 of 5). These functions will not be directly callable after loading.\n"
     ]
    },
    {
     "name": "stdout",
     "output_type": "stream",
     "text": [
      "INFO:tensorflow:Assets written to: normal_cnn\\assets\n"
     ]
    },
    {
     "name": "stderr",
     "output_type": "stream",
     "text": [
      "INFO:tensorflow:Assets written to: normal_cnn\\assets\n"
     ]
    }
   ],
   "source": [
    "model.save('normal_cnn')"
   ]
  },
  {
   "cell_type": "code",
   "execution_count": 21,
   "id": "0f3ab7f4-4b5e-44d6-8db1-c0282d7027d9",
   "metadata": {},
   "outputs": [
    {
     "name": "stdout",
     "output_type": "stream",
     "text": [
      "Epoch 1/10\n",
      "901/901 [==============================] - 164s 181ms/step - loss: 1.1541 - accuracy: 0.5618 - val_loss: 1.2132 - val_accuracy: 0.5409\n",
      "Epoch 2/10\n",
      "901/901 [==============================] - 162s 180ms/step - loss: 1.1378 - accuracy: 0.5668 - val_loss: 1.1998 - val_accuracy: 0.5507\n",
      "Epoch 3/10\n",
      "901/901 [==============================] - 164s 182ms/step - loss: 1.1150 - accuracy: 0.5758 - val_loss: 1.1984 - val_accuracy: 0.5500\n",
      "Epoch 4/10\n",
      "901/901 [==============================] - 164s 182ms/step - loss: 1.1015 - accuracy: 0.5805 - val_loss: 1.1875 - val_accuracy: 0.5570\n",
      "Epoch 5/10\n",
      "901/901 [==============================] - 164s 181ms/step - loss: 1.0730 - accuracy: 0.5961 - val_loss: 1.1960 - val_accuracy: 0.5536\n",
      "Epoch 6/10\n",
      "901/901 [==============================] - 163s 181ms/step - loss: 1.0604 - accuracy: 0.6002 - val_loss: 1.1582 - val_accuracy: 0.5678\n",
      "Epoch 7/10\n",
      "901/901 [==============================] - 164s 181ms/step - loss: 1.0486 - accuracy: 0.6036 - val_loss: 1.1978 - val_accuracy: 0.5573\n",
      "Epoch 8/10\n",
      "901/901 [==============================] - 163s 180ms/step - loss: 1.0210 - accuracy: 0.6159 - val_loss: 1.2021 - val_accuracy: 0.5640\n",
      "Epoch 9/10\n",
      "901/901 [==============================] - 164s 182ms/step - loss: 1.0024 - accuracy: 0.6212 - val_loss: 1.1663 - val_accuracy: 0.5659\n",
      "Epoch 10/10\n",
      "901/901 [==============================] - 234s 259ms/step - loss: 0.9812 - accuracy: 0.6298 - val_loss: 1.2309 - val_accuracy: 0.5545\n"
     ]
    }
   ],
   "source": [
    "from tensorflow.keras.layers import Input\n",
    "base_model = tf.keras.applications.resnet50.ResNet50(weights='imagenet', include_top = False)\n",
    "base_model.trainable = False\n",
    "model2 = Sequential([\n",
    "    Input(shape=(128, 128, 3)),\n",
    "    base_model,\n",
    "    Flatten(),\n",
    "    Dense(512, activation='relu'),\n",
    "    Dense(7, activation='softmax')\n",
    "])\n",
    "model2.compile(optimizer='Adam', loss='categorical_crossentropy', metrics=['accuracy'])\n",
    "history2 = model.fit(train_data, validation_data = val_data, epochs = 10)"
   ]
  },
  {
   "cell_type": "code",
   "execution_count": 23,
   "id": "272f7f7b-c528-46bb-91cc-9f3de8759374",
   "metadata": {},
   "outputs": [
    {
     "name": "stderr",
     "output_type": "stream",
     "text": [
      "WARNING:absl:Found untraced functions such as _jit_compiled_convolution_op, _jit_compiled_convolution_op, _jit_compiled_convolution_op, _jit_compiled_convolution_op, _jit_compiled_convolution_op while saving (showing 5 of 53). These functions will not be directly callable after loading.\n"
     ]
    },
    {
     "name": "stdout",
     "output_type": "stream",
     "text": [
      "INFO:tensorflow:Assets written to: resnet_model\\assets\n"
     ]
    },
    {
     "name": "stderr",
     "output_type": "stream",
     "text": [
      "INFO:tensorflow:Assets written to: resnet_model\\assets\n"
     ]
    }
   ],
   "source": [
    "model2.save('resnet_model')"
   ]
  },
  {
   "cell_type": "code",
   "execution_count": null,
   "id": "3520c9bd-a053-4b8c-b209-94c3398bbb1a",
   "metadata": {},
   "outputs": [],
   "source": []
  }
 ],
 "metadata": {
  "kernelspec": {
   "display_name": "Python 3 (ipykernel)",
   "language": "python",
   "name": "python3"
  },
  "language_info": {
   "codemirror_mode": {
    "name": "ipython",
    "version": 3
   },
   "file_extension": ".py",
   "mimetype": "text/x-python",
   "name": "python",
   "nbconvert_exporter": "python",
   "pygments_lexer": "ipython3",
   "version": "3.10.13"
  }
 },
 "nbformat": 4,
 "nbformat_minor": 5
}
